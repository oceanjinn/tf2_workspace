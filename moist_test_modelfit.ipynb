{
 "cells": [
  {
   "cell_type": "code",
   "execution_count": 22,
   "metadata": {},
   "outputs": [
    {
     "name": "stdout",
     "output_type": "stream",
     "text": [
      "Train on 42000 samples, validate on 18000 samples\n",
      "Epoch 1/10\n",
      "42000/42000 [==============================] - 19s 447us/sample - loss: 0.5158 - accuracy: 0.8435 - val_loss: 0.2272 - val_accuracy: 0.9347\n",
      "Epoch 2/10\n",
      "42000/42000 [==============================] - 16s 388us/sample - loss: 0.2722 - accuracy: 0.9190 - val_loss: 0.1685 - val_accuracy: 0.9506\n",
      "Epoch 3/10\n",
      "42000/42000 [==============================] - 15s 360us/sample - loss: 0.2210 - accuracy: 0.9350 - val_loss: 0.1457 - val_accuracy: 0.9563\n",
      "Epoch 4/10\n",
      "42000/42000 [==============================] - 12s 277us/sample - loss: 0.1890 - accuracy: 0.9443 - val_loss: 0.1300 - val_accuracy: 0.9616\n",
      "Epoch 5/10\n",
      "42000/42000 [==============================] - 12s 276us/sample - loss: 0.1679 - accuracy: 0.9489 - val_loss: 0.1182 - val_accuracy: 0.9647\n",
      "Epoch 6/10\n",
      "42000/42000 [==============================] - 12s 289us/sample - loss: 0.1572 - accuracy: 0.9525 - val_loss: 0.1121 - val_accuracy: 0.9669\n",
      "Epoch 7/10\n",
      "42000/42000 [==============================] - 12s 295us/sample - loss: 0.1449 - accuracy: 0.9569 - val_loss: 0.1019 - val_accuracy: 0.9698\n",
      "Epoch 8/10\n",
      "42000/42000 [==============================] - 12s 284us/sample - loss: 0.1341 - accuracy: 0.9598 - val_loss: 0.1023 - val_accuracy: 0.9703\n",
      "Epoch 9/10\n",
      "42000/42000 [==============================] - 12s 290us/sample - loss: 0.1274 - accuracy: 0.9612 - val_loss: 0.0963 - val_accuracy: 0.9722\n",
      "Epoch 10/10\n",
      "42000/42000 [==============================] - 12s 281us/sample - loss: 0.1195 - accuracy: 0.9617 - val_loss: 0.0915 - val_accuracy: 0.9733\n"
     ]
    },
    {
     "data": {
      "text/plain": [
       "<tensorflow.python.keras.callbacks.History at 0x65ddddcd0>"
      ]
     },
     "execution_count": 22,
     "metadata": {},
     "output_type": "execute_result"
    }
   ],
   "source": [
    "import tensorflow as tf\n",
    "import numpy as np\n",
    "from tensorflow import keras\n",
    "\n",
    " \n",
    "tBatchSize = 128\n",
    "'''第一步：选择模型'''\n",
    "model = keras.Sequential() # 采用贯序模型\n",
    " \n",
    "'''第二步：构建网络层'''\n",
    "model.add(keras.layers.Dense(500,input_shape=(784,))) # 输入层，28*28=784 输入层将二维矩阵换成了一维向量输入\n",
    "model.add(keras.layers.Activation('relu')) # 激活函数是tanh 为双曲正切\n",
    "model.add(keras.layers.Dropout(0.5)) # 采用50%的dropout  随机取一半进行训练\n",
    "\n",
    "model.add(keras.layers.Activation('relu'))\n",
    "model.add(keras.layers.Dropout(0.5))\n",
    " \n",
    "model.add(keras.layers.Activation('relu'))\n",
    "#model.add(Dropout(0.5))\n",
    " \n",
    "model.add(keras.layers.Dense(10)) # 输出结果是10个类别，所以维度是10\n",
    "model.add(keras.layers.Activation('softmax')) # 最后一层用softmax作为激活函数\n",
    "\n",
    "'''第三步：网络优化和编译'''\n",
    "model.compile(loss='categorical_crossentropy', optimizer='adam', metrics=['accuracy']) # 使用交叉熵作为loss函数    \n",
    " \n",
    "'''第四步：训练'''\n",
    " \n",
    "# 数据集获取 mnist 数据集的介绍可以参考 https://blog.csdn.net/simple_the_best/article/details/75267863\n",
    "(X_train, y_train), (X_test, y_test) = keras.datasets.mnist.load_data() # 使用Keras自带的mnist工具读取数据（第一次需要联网）\n",
    "# 由于mist的输入数据维度是(num, 28, 28)，这里需要把后面的维度直接拼起来变成784维\n",
    "X_train = X_train.reshape(X_train.shape[0], X_train.shape[1] * X_train.shape[2])\n",
    "X_test = X_test.reshape(X_test.shape[0], X_test.shape[1] * X_test.shape[2])\n",
    "\n",
    "#这个能生成一个OneHot的10维向量，作为Y_train的一行，这样Y_train就有60000行OneHot作为输出\n",
    "Y_train = (np.arange(10) == y_train[:, None]).astype(int)  # 整理输出\n",
    "Y_test = (np.arange(10) == y_test[:, None]).astype(int)    #np.arange(5) = array([0,1,2,3,4])\n",
    "\n",
    " #非常重要!!!\n",
    "X_train = X_train / 256.0\n",
    "X_test = X_test / 256.0\n",
    "model.fit(X_train, Y_train, batch_size=tBatchSize, epochs=10, \n",
    "             validation_split=0.3)"
   ]
  },
  {
   "cell_type": "code",
   "execution_count": null,
   "metadata": {},
   "outputs": [],
   "source": []
  }
 ],
 "metadata": {
  "kernelspec": {
   "display_name": "Python 3",
   "language": "python",
   "name": "python3"
  },
  "language_info": {
   "codemirror_mode": {
    "name": "ipython",
    "version": 3
   },
   "file_extension": ".py",
   "mimetype": "text/x-python",
   "name": "python",
   "nbconvert_exporter": "python",
   "pygments_lexer": "ipython3",
   "version": "3.7.4"
  }
 },
 "nbformat": 4,
 "nbformat_minor": 2
}
